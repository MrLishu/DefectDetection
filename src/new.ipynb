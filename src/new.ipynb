{
 "cells": [
  {
   "cell_type": "code",
   "execution_count": 1,
   "metadata": {},
   "outputs": [],
   "source": [
    "from pytorch_metric_learning import miners, losses\n",
    "# miner = miners.MultiSimilarityMiner()\n",
    "# loss_func = losses.TripletMarginLoss()\n",
    "\n",
    "# # your training loop\n",
    "# for i, (data, labels) in enumerate(dataloader):\n",
    "#     optimizer.zero_grad()\n",
    "#     embeddings = model(data)\n",
    "#     hard_pairs = miner(embeddings, labels)\n",
    "#     loss = loss_func(embeddings, labels, hard_pairs)\n",
    "#     loss.backward()\n",
    "#     optimizer.step()\n"
   ]
  }
 ],
 "metadata": {
  "kernelspec": {
   "display_name": "Python 3.9.5 64-bit ('pytorch_cuda': venv)",
   "language": "python",
   "name": "python3"
  },
  "language_info": {
   "codemirror_mode": {
    "name": "ipython",
    "version": 3
   },
   "file_extension": ".py",
   "mimetype": "text/x-python",
   "name": "python",
   "nbconvert_exporter": "python",
   "pygments_lexer": "ipython3",
   "version": "3.9.5"
  },
  "orig_nbformat": 4,
  "vscode": {
   "interpreter": {
    "hash": "4a87ae20325230e6837d10af669f1fa9c638e6a86848d665604322fabba37f98"
   }
  }
 },
 "nbformat": 4,
 "nbformat_minor": 2
}
